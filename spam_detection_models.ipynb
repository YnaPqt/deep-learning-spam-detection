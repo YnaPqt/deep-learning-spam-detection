{
  "nbformat": 4,
  "nbformat_minor": 0,
  "metadata": {
    "colab": {
      "provenance": [],
      "authorship_tag": "ABX9TyNFqAlV05V++hmhyf8zVKom"
    },
    "kernelspec": {
      "name": "python3",
      "display_name": "Python 3"
    },
    "language_info": {
      "name": "python"
    }
  },
  "cells": [
    {
      "cell_type": "markdown",
      "source": [
        "#Notebook Setup"
      ],
      "metadata": {
        "id": "87DuA7QfwlD9"
      }
    },
    {
      "cell_type": "code",
      "execution_count": 402,
      "metadata": {
        "id": "erDYiH0HwgHy"
      },
      "outputs": [],
      "source": [
        "import pandas as pd\n",
        "import numpy as np\n",
        "import tensorflow as tf\n",
        "import tensorflow.keras as k\n",
        "import tensorflow_hub as hub\n",
        "import tensorflow_text as text\n",
        "import typing\n",
        "\n",
        "import spacy\n",
        "from sklearn.model_selection import train_test_split\n",
        "from sklearn.metrics import confusion_matrix, classification_report, f1_score\n",
        "import matplotlib.pyplot as plt\n",
        "import seaborn as sns"
      ]
    },
    {
      "cell_type": "markdown",
      "source": [
        "##Load cleaned dataset"
      ],
      "metadata": {
        "id": "DZCgDzv0w3ZM"
      }
    },
    {
      "cell_type": "code",
      "source": [
        "df = pd.read_csv('/content/data_clean.csv')\n",
        "df.head()"
      ],
      "metadata": {
        "colab": {
          "base_uri": "https://localhost:8080/",
          "height": 206
        },
        "id": "JM4SRilGw1dB",
        "outputId": "04f5a65c-5887-4b11-e416-a5a4a6d0abf1"
      },
      "execution_count": 494,
      "outputs": [
        {
          "output_type": "execute_result",
          "data": {
            "text/plain": [
              "   label                                               text\n",
              "0      0  jurong point crazy available bugis n great wor...\n",
              "1      0                            ok lar Joking wif u oni\n",
              "2      1  free entry 2 wkly comp win FA Cup final tkts 2...\n",
              "3      0                                u dun early hor u c\n",
              "4      0                               nah I think usf live"
            ],
            "text/html": [
              "\n",
              "  <div id=\"df-a5dc748a-15c0-4493-9473-9121bf677532\" class=\"colab-df-container\">\n",
              "    <div>\n",
              "<style scoped>\n",
              "    .dataframe tbody tr th:only-of-type {\n",
              "        vertical-align: middle;\n",
              "    }\n",
              "\n",
              "    .dataframe tbody tr th {\n",
              "        vertical-align: top;\n",
              "    }\n",
              "\n",
              "    .dataframe thead th {\n",
              "        text-align: right;\n",
              "    }\n",
              "</style>\n",
              "<table border=\"1\" class=\"dataframe\">\n",
              "  <thead>\n",
              "    <tr style=\"text-align: right;\">\n",
              "      <th></th>\n",
              "      <th>label</th>\n",
              "      <th>text</th>\n",
              "    </tr>\n",
              "  </thead>\n",
              "  <tbody>\n",
              "    <tr>\n",
              "      <th>0</th>\n",
              "      <td>0</td>\n",
              "      <td>jurong point crazy available bugis n great wor...</td>\n",
              "    </tr>\n",
              "    <tr>\n",
              "      <th>1</th>\n",
              "      <td>0</td>\n",
              "      <td>ok lar Joking wif u oni</td>\n",
              "    </tr>\n",
              "    <tr>\n",
              "      <th>2</th>\n",
              "      <td>1</td>\n",
              "      <td>free entry 2 wkly comp win FA Cup final tkts 2...</td>\n",
              "    </tr>\n",
              "    <tr>\n",
              "      <th>3</th>\n",
              "      <td>0</td>\n",
              "      <td>u dun early hor u c</td>\n",
              "    </tr>\n",
              "    <tr>\n",
              "      <th>4</th>\n",
              "      <td>0</td>\n",
              "      <td>nah I think usf live</td>\n",
              "    </tr>\n",
              "  </tbody>\n",
              "</table>\n",
              "</div>\n",
              "    <div class=\"colab-df-buttons\">\n",
              "\n",
              "  <div class=\"colab-df-container\">\n",
              "    <button class=\"colab-df-convert\" onclick=\"convertToInteractive('df-a5dc748a-15c0-4493-9473-9121bf677532')\"\n",
              "            title=\"Convert this dataframe to an interactive table.\"\n",
              "            style=\"display:none;\">\n",
              "\n",
              "  <svg xmlns=\"http://www.w3.org/2000/svg\" height=\"24px\" viewBox=\"0 -960 960 960\">\n",
              "    <path d=\"M120-120v-720h720v720H120Zm60-500h600v-160H180v160Zm220 220h160v-160H400v160Zm0 220h160v-160H400v160ZM180-400h160v-160H180v160Zm440 0h160v-160H620v160ZM180-180h160v-160H180v160Zm440 0h160v-160H620v160Z\"/>\n",
              "  </svg>\n",
              "    </button>\n",
              "\n",
              "  <style>\n",
              "    .colab-df-container {\n",
              "      display:flex;\n",
              "      gap: 12px;\n",
              "    }\n",
              "\n",
              "    .colab-df-convert {\n",
              "      background-color: #E8F0FE;\n",
              "      border: none;\n",
              "      border-radius: 50%;\n",
              "      cursor: pointer;\n",
              "      display: none;\n",
              "      fill: #1967D2;\n",
              "      height: 32px;\n",
              "      padding: 0 0 0 0;\n",
              "      width: 32px;\n",
              "    }\n",
              "\n",
              "    .colab-df-convert:hover {\n",
              "      background-color: #E2EBFA;\n",
              "      box-shadow: 0px 1px 2px rgba(60, 64, 67, 0.3), 0px 1px 3px 1px rgba(60, 64, 67, 0.15);\n",
              "      fill: #174EA6;\n",
              "    }\n",
              "\n",
              "    .colab-df-buttons div {\n",
              "      margin-bottom: 4px;\n",
              "    }\n",
              "\n",
              "    [theme=dark] .colab-df-convert {\n",
              "      background-color: #3B4455;\n",
              "      fill: #D2E3FC;\n",
              "    }\n",
              "\n",
              "    [theme=dark] .colab-df-convert:hover {\n",
              "      background-color: #434B5C;\n",
              "      box-shadow: 0px 1px 3px 1px rgba(0, 0, 0, 0.15);\n",
              "      filter: drop-shadow(0px 1px 2px rgba(0, 0, 0, 0.3));\n",
              "      fill: #FFFFFF;\n",
              "    }\n",
              "  </style>\n",
              "\n",
              "    <script>\n",
              "      const buttonEl =\n",
              "        document.querySelector('#df-a5dc748a-15c0-4493-9473-9121bf677532 button.colab-df-convert');\n",
              "      buttonEl.style.display =\n",
              "        google.colab.kernel.accessAllowed ? 'block' : 'none';\n",
              "\n",
              "      async function convertToInteractive(key) {\n",
              "        const element = document.querySelector('#df-a5dc748a-15c0-4493-9473-9121bf677532');\n",
              "        const dataTable =\n",
              "          await google.colab.kernel.invokeFunction('convertToInteractive',\n",
              "                                                    [key], {});\n",
              "        if (!dataTable) return;\n",
              "\n",
              "        const docLinkHtml = 'Like what you see? Visit the ' +\n",
              "          '<a target=\"_blank\" href=https://colab.research.google.com/notebooks/data_table.ipynb>data table notebook</a>'\n",
              "          + ' to learn more about interactive tables.';\n",
              "        element.innerHTML = '';\n",
              "        dataTable['output_type'] = 'display_data';\n",
              "        await google.colab.output.renderOutput(dataTable, element);\n",
              "        const docLink = document.createElement('div');\n",
              "        docLink.innerHTML = docLinkHtml;\n",
              "        element.appendChild(docLink);\n",
              "      }\n",
              "    </script>\n",
              "  </div>\n",
              "\n",
              "\n",
              "<div id=\"df-5f85a655-6b28-4986-9710-92f7d83cdfaf\">\n",
              "  <button class=\"colab-df-quickchart\" onclick=\"quickchart('df-5f85a655-6b28-4986-9710-92f7d83cdfaf')\"\n",
              "            title=\"Suggest charts\"\n",
              "            style=\"display:none;\">\n",
              "\n",
              "<svg xmlns=\"http://www.w3.org/2000/svg\" height=\"24px\"viewBox=\"0 0 24 24\"\n",
              "     width=\"24px\">\n",
              "    <g>\n",
              "        <path d=\"M19 3H5c-1.1 0-2 .9-2 2v14c0 1.1.9 2 2 2h14c1.1 0 2-.9 2-2V5c0-1.1-.9-2-2-2zM9 17H7v-7h2v7zm4 0h-2V7h2v10zm4 0h-2v-4h2v4z\"/>\n",
              "    </g>\n",
              "</svg>\n",
              "  </button>\n",
              "\n",
              "<style>\n",
              "  .colab-df-quickchart {\n",
              "      --bg-color: #E8F0FE;\n",
              "      --fill-color: #1967D2;\n",
              "      --hover-bg-color: #E2EBFA;\n",
              "      --hover-fill-color: #174EA6;\n",
              "      --disabled-fill-color: #AAA;\n",
              "      --disabled-bg-color: #DDD;\n",
              "  }\n",
              "\n",
              "  [theme=dark] .colab-df-quickchart {\n",
              "      --bg-color: #3B4455;\n",
              "      --fill-color: #D2E3FC;\n",
              "      --hover-bg-color: #434B5C;\n",
              "      --hover-fill-color: #FFFFFF;\n",
              "      --disabled-bg-color: #3B4455;\n",
              "      --disabled-fill-color: #666;\n",
              "  }\n",
              "\n",
              "  .colab-df-quickchart {\n",
              "    background-color: var(--bg-color);\n",
              "    border: none;\n",
              "    border-radius: 50%;\n",
              "    cursor: pointer;\n",
              "    display: none;\n",
              "    fill: var(--fill-color);\n",
              "    height: 32px;\n",
              "    padding: 0;\n",
              "    width: 32px;\n",
              "  }\n",
              "\n",
              "  .colab-df-quickchart:hover {\n",
              "    background-color: var(--hover-bg-color);\n",
              "    box-shadow: 0 1px 2px rgba(60, 64, 67, 0.3), 0 1px 3px 1px rgba(60, 64, 67, 0.15);\n",
              "    fill: var(--button-hover-fill-color);\n",
              "  }\n",
              "\n",
              "  .colab-df-quickchart-complete:disabled,\n",
              "  .colab-df-quickchart-complete:disabled:hover {\n",
              "    background-color: var(--disabled-bg-color);\n",
              "    fill: var(--disabled-fill-color);\n",
              "    box-shadow: none;\n",
              "  }\n",
              "\n",
              "  .colab-df-spinner {\n",
              "    border: 2px solid var(--fill-color);\n",
              "    border-color: transparent;\n",
              "    border-bottom-color: var(--fill-color);\n",
              "    animation:\n",
              "      spin 1s steps(1) infinite;\n",
              "  }\n",
              "\n",
              "  @keyframes spin {\n",
              "    0% {\n",
              "      border-color: transparent;\n",
              "      border-bottom-color: var(--fill-color);\n",
              "      border-left-color: var(--fill-color);\n",
              "    }\n",
              "    20% {\n",
              "      border-color: transparent;\n",
              "      border-left-color: var(--fill-color);\n",
              "      border-top-color: var(--fill-color);\n",
              "    }\n",
              "    30% {\n",
              "      border-color: transparent;\n",
              "      border-left-color: var(--fill-color);\n",
              "      border-top-color: var(--fill-color);\n",
              "      border-right-color: var(--fill-color);\n",
              "    }\n",
              "    40% {\n",
              "      border-color: transparent;\n",
              "      border-right-color: var(--fill-color);\n",
              "      border-top-color: var(--fill-color);\n",
              "    }\n",
              "    60% {\n",
              "      border-color: transparent;\n",
              "      border-right-color: var(--fill-color);\n",
              "    }\n",
              "    80% {\n",
              "      border-color: transparent;\n",
              "      border-right-color: var(--fill-color);\n",
              "      border-bottom-color: var(--fill-color);\n",
              "    }\n",
              "    90% {\n",
              "      border-color: transparent;\n",
              "      border-bottom-color: var(--fill-color);\n",
              "    }\n",
              "  }\n",
              "</style>\n",
              "\n",
              "  <script>\n",
              "    async function quickchart(key) {\n",
              "      const quickchartButtonEl =\n",
              "        document.querySelector('#' + key + ' button');\n",
              "      quickchartButtonEl.disabled = true;  // To prevent multiple clicks.\n",
              "      quickchartButtonEl.classList.add('colab-df-spinner');\n",
              "      try {\n",
              "        const charts = await google.colab.kernel.invokeFunction(\n",
              "            'suggestCharts', [key], {});\n",
              "      } catch (error) {\n",
              "        console.error('Error during call to suggestCharts:', error);\n",
              "      }\n",
              "      quickchartButtonEl.classList.remove('colab-df-spinner');\n",
              "      quickchartButtonEl.classList.add('colab-df-quickchart-complete');\n",
              "    }\n",
              "    (() => {\n",
              "      let quickchartButtonEl =\n",
              "        document.querySelector('#df-5f85a655-6b28-4986-9710-92f7d83cdfaf button');\n",
              "      quickchartButtonEl.style.display =\n",
              "        google.colab.kernel.accessAllowed ? 'block' : 'none';\n",
              "    })();\n",
              "  </script>\n",
              "</div>\n",
              "\n",
              "    </div>\n",
              "  </div>\n"
            ],
            "application/vnd.google.colaboratory.intrinsic+json": {
              "type": "dataframe",
              "variable_name": "df",
              "summary": "{\n  \"name\": \"df\",\n  \"rows\": 5572,\n  \"fields\": [\n    {\n      \"column\": \"label\",\n      \"properties\": {\n        \"dtype\": \"number\",\n        \"std\": 0,\n        \"min\": 0,\n        \"max\": 1,\n        \"num_unique_values\": 2,\n        \"samples\": [\n          1,\n          0\n        ],\n        \"semantic_type\": \"\",\n        \"description\": \"\"\n      }\n    },\n    {\n      \"column\": \"text\",\n      \"properties\": {\n        \"dtype\": \"string\",\n        \"num_unique_values\": 5096,\n        \"samples\": [\n          \"pattern recently crap weekend\",\n          \"22 146tf150p\"\n        ],\n        \"semantic_type\": \"\",\n        \"description\": \"\"\n      }\n    }\n  ]\n}"
            }
          },
          "metadata": {},
          "execution_count": 494
        }
      ]
    },
    {
      "cell_type": "markdown",
      "source": [
        "#Tokenization & Padding"
      ],
      "metadata": {
        "id": "7-5Kld8sxE7Y"
      }
    },
    {
      "cell_type": "code",
      "source": [
        "NUM_WORDS = 5000\n",
        "BATCH_SIZE = 64"
      ],
      "metadata": {
        "id": "kv_GzV7dxIzz"
      },
      "execution_count": 495,
      "outputs": []
    },
    {
      "cell_type": "code",
      "source": [
        "# Tokenization\n",
        "df['text'] = df['text'].astype(str)\n",
        "\n",
        "tokenizer = k.preprocessing.text.Tokenizer(num_words=NUM_WORDS, oov_token='oov')\n",
        "tokenizer.fit_on_texts(df['text'])\n",
        "df['token'] = tokenizer.texts_to_sequences(df['text'])"
      ],
      "metadata": {
        "id": "UJ8DBICCxSvu"
      },
      "execution_count": 496,
      "outputs": []
    },
    {
      "cell_type": "code",
      "source": [
        "#Padding\n",
        "padded = k.preprocessing.sequence.pad_sequences(\n",
        "                    df['token'],\n",
        "                    maxlen=None,\n",
        "                    padding='post'\n",
        "                    )"
      ],
      "metadata": {
        "id": "3vc4BuTlx6gs"
      },
      "execution_count": 497,
      "outputs": []
    },
    {
      "cell_type": "markdown",
      "source": [
        "#Build the training set"
      ],
      "metadata": {
        "id": "ylcgMqTHzDsA"
      }
    },
    {
      "cell_type": "code",
      "source": [
        "x_train, x_val, y_train, y_val = train_test_split(\n",
        "                    padded,\n",
        "                    df['label'],\n",
        "                    test_size=0.3,\n",
        "                    stratify=df['label']\n",
        "                    )"
      ],
      "metadata": {
        "id": "YSLmQw4gzDig"
      },
      "execution_count": 498,
      "outputs": []
    },
    {
      "cell_type": "code",
      "source": [
        "train, val = tf.data.Dataset.from_tensor_slices((x_train, y_train)), tf.data.Dataset.from_tensor_slices((x_val, y_val))\n",
        "train_batch, val_batch = train.shuffle(len(train)).batch(BATCH_SIZE), val.shuffle(len(val)).batch(BATCH_SIZE)"
      ],
      "metadata": {
        "id": "vG0VTKrSUrEH"
      },
      "execution_count": 499,
      "outputs": []
    },
    {
      "cell_type": "markdown",
      "source": [
        "# Word2Vec"
      ],
      "metadata": {
        "id": "Rc63b0d71QyL"
      }
    },
    {
      "cell_type": "code",
      "source": [
        "import tensorflow.keras.layers as l"
      ],
      "metadata": {
        "id": "c6Pu8k0E1UKt"
      },
      "execution_count": 500,
      "outputs": []
    },
    {
      "cell_type": "code",
      "source": [
        "model = k.Sequential([\n",
        "    l.Embedding(NUM_WORDS, 8, input_shape=[padded.shape[1],]),\n",
        "    l.GlobalAveragePooling1D(),\n",
        "    l.Dense(8, activation='swish'),\n",
        "    l.Dropout(0.2),\n",
        "    l.Dense(1, activation='sigmoid')\n",
        "])\n",
        "\n",
        "\n",
        "OPTIMIZER = k.optimizers.Adam(learning_rate=0.01)\n",
        "model.compile(\n",
        "    optimizer=OPTIMIZER,\n",
        "    loss=k.losses.BinaryCrossentropy(),\n",
        "    metrics=[k.metrics.BinaryAccuracy(), k.metrics.Recall(), k.metrics.Precision()],\n",
        "    )"
      ],
      "metadata": {
        "colab": {
          "base_uri": "https://localhost:8080/"
        },
        "id": "beWSZGaR1b-8",
        "outputId": "51c801f7-11c3-4062-f7c9-1d78823d71e3"
      },
      "execution_count": 501,
      "outputs": [
        {
          "output_type": "stream",
          "name": "stderr",
          "text": [
            "/usr/local/lib/python3.11/dist-packages/keras/src/layers/core/embedding.py:93: UserWarning: Do not pass an `input_shape`/`input_dim` argument to a layer. When using Sequential models, prefer using an `Input(shape)` object as the first layer in the model instead.\n",
            "  super().__init__(**kwargs)\n"
          ]
        }
      ]
    },
    {
      "cell_type": "code",
      "source": [
        "model.summary()"
      ],
      "metadata": {
        "colab": {
          "base_uri": "https://localhost:8080/",
          "height": 321
        },
        "id": "3Ebpbd8V3uHY",
        "outputId": "8b6e2ab0-8fef-4c8a-f485-94e386249c3e"
      },
      "execution_count": 502,
      "outputs": [
        {
          "output_type": "display_data",
          "data": {
            "text/plain": [
              "\u001b[1mModel: \"sequential_58\"\u001b[0m\n"
            ],
            "text/html": [
              "<pre style=\"white-space:pre;overflow-x:auto;line-height:normal;font-family:Menlo,'DejaVu Sans Mono',consolas,'Courier New',monospace\"><span style=\"font-weight: bold\">Model: \"sequential_58\"</span>\n",
              "</pre>\n"
            ]
          },
          "metadata": {}
        },
        {
          "output_type": "display_data",
          "data": {
            "text/plain": [
              "┏━━━━━━━━━━━━━━━━━━━━━━━━━━━━━━━━━━━━━━┳━━━━━━━━━━━━━━━━━━━━━━━━━━━━━┳━━━━━━━━━━━━━━━━━┓\n",
              "┃\u001b[1m \u001b[0m\u001b[1mLayer (type)                        \u001b[0m\u001b[1m \u001b[0m┃\u001b[1m \u001b[0m\u001b[1mOutput Shape               \u001b[0m\u001b[1m \u001b[0m┃\u001b[1m \u001b[0m\u001b[1m        Param #\u001b[0m\u001b[1m \u001b[0m┃\n",
              "┡━━━━━━━━━━━━━━━━━━━━━━━━━━━━━━━━━━━━━━╇━━━━━━━━━━━━━━━━━━━━━━━━━━━━━╇━━━━━━━━━━━━━━━━━┩\n",
              "│ embedding_59 (\u001b[38;5;33mEmbedding\u001b[0m)             │ (\u001b[38;5;45mNone\u001b[0m, \u001b[38;5;34m73\u001b[0m, \u001b[38;5;34m8\u001b[0m)               │          \u001b[38;5;34m40,000\u001b[0m │\n",
              "├──────────────────────────────────────┼─────────────────────────────┼─────────────────┤\n",
              "│ global_average_pooling1d_39          │ (\u001b[38;5;45mNone\u001b[0m, \u001b[38;5;34m8\u001b[0m)                   │               \u001b[38;5;34m0\u001b[0m │\n",
              "│ (\u001b[38;5;33mGlobalAveragePooling1D\u001b[0m)             │                             │                 │\n",
              "├──────────────────────────────────────┼─────────────────────────────┼─────────────────┤\n",
              "│ dense_116 (\u001b[38;5;33mDense\u001b[0m)                    │ (\u001b[38;5;45mNone\u001b[0m, \u001b[38;5;34m8\u001b[0m)                   │              \u001b[38;5;34m72\u001b[0m │\n",
              "├──────────────────────────────────────┼─────────────────────────────┼─────────────────┤\n",
              "│ dropout_58 (\u001b[38;5;33mDropout\u001b[0m)                 │ (\u001b[38;5;45mNone\u001b[0m, \u001b[38;5;34m8\u001b[0m)                   │               \u001b[38;5;34m0\u001b[0m │\n",
              "├──────────────────────────────────────┼─────────────────────────────┼─────────────────┤\n",
              "│ dense_117 (\u001b[38;5;33mDense\u001b[0m)                    │ (\u001b[38;5;45mNone\u001b[0m, \u001b[38;5;34m1\u001b[0m)                   │               \u001b[38;5;34m9\u001b[0m │\n",
              "└──────────────────────────────────────┴─────────────────────────────┴─────────────────┘\n"
            ],
            "text/html": [
              "<pre style=\"white-space:pre;overflow-x:auto;line-height:normal;font-family:Menlo,'DejaVu Sans Mono',consolas,'Courier New',monospace\">┏━━━━━━━━━━━━━━━━━━━━━━━━━━━━━━━━━━━━━━┳━━━━━━━━━━━━━━━━━━━━━━━━━━━━━┳━━━━━━━━━━━━━━━━━┓\n",
              "┃<span style=\"font-weight: bold\"> Layer (type)                         </span>┃<span style=\"font-weight: bold\"> Output Shape                </span>┃<span style=\"font-weight: bold\">         Param # </span>┃\n",
              "┡━━━━━━━━━━━━━━━━━━━━━━━━━━━━━━━━━━━━━━╇━━━━━━━━━━━━━━━━━━━━━━━━━━━━━╇━━━━━━━━━━━━━━━━━┩\n",
              "│ embedding_59 (<span style=\"color: #0087ff; text-decoration-color: #0087ff\">Embedding</span>)             │ (<span style=\"color: #00d7ff; text-decoration-color: #00d7ff\">None</span>, <span style=\"color: #00af00; text-decoration-color: #00af00\">73</span>, <span style=\"color: #00af00; text-decoration-color: #00af00\">8</span>)               │          <span style=\"color: #00af00; text-decoration-color: #00af00\">40,000</span> │\n",
              "├──────────────────────────────────────┼─────────────────────────────┼─────────────────┤\n",
              "│ global_average_pooling1d_39          │ (<span style=\"color: #00d7ff; text-decoration-color: #00d7ff\">None</span>, <span style=\"color: #00af00; text-decoration-color: #00af00\">8</span>)                   │               <span style=\"color: #00af00; text-decoration-color: #00af00\">0</span> │\n",
              "│ (<span style=\"color: #0087ff; text-decoration-color: #0087ff\">GlobalAveragePooling1D</span>)             │                             │                 │\n",
              "├──────────────────────────────────────┼─────────────────────────────┼─────────────────┤\n",
              "│ dense_116 (<span style=\"color: #0087ff; text-decoration-color: #0087ff\">Dense</span>)                    │ (<span style=\"color: #00d7ff; text-decoration-color: #00d7ff\">None</span>, <span style=\"color: #00af00; text-decoration-color: #00af00\">8</span>)                   │              <span style=\"color: #00af00; text-decoration-color: #00af00\">72</span> │\n",
              "├──────────────────────────────────────┼─────────────────────────────┼─────────────────┤\n",
              "│ dropout_58 (<span style=\"color: #0087ff; text-decoration-color: #0087ff\">Dropout</span>)                 │ (<span style=\"color: #00d7ff; text-decoration-color: #00d7ff\">None</span>, <span style=\"color: #00af00; text-decoration-color: #00af00\">8</span>)                   │               <span style=\"color: #00af00; text-decoration-color: #00af00\">0</span> │\n",
              "├──────────────────────────────────────┼─────────────────────────────┼─────────────────┤\n",
              "│ dense_117 (<span style=\"color: #0087ff; text-decoration-color: #0087ff\">Dense</span>)                    │ (<span style=\"color: #00d7ff; text-decoration-color: #00d7ff\">None</span>, <span style=\"color: #00af00; text-decoration-color: #00af00\">1</span>)                   │               <span style=\"color: #00af00; text-decoration-color: #00af00\">9</span> │\n",
              "└──────────────────────────────────────┴─────────────────────────────┴─────────────────┘\n",
              "</pre>\n"
            ]
          },
          "metadata": {}
        },
        {
          "output_type": "display_data",
          "data": {
            "text/plain": [
              "\u001b[1m Total params: \u001b[0m\u001b[38;5;34m40,081\u001b[0m (156.57 KB)\n"
            ],
            "text/html": [
              "<pre style=\"white-space:pre;overflow-x:auto;line-height:normal;font-family:Menlo,'DejaVu Sans Mono',consolas,'Courier New',monospace\"><span style=\"font-weight: bold\"> Total params: </span><span style=\"color: #00af00; text-decoration-color: #00af00\">40,081</span> (156.57 KB)\n",
              "</pre>\n"
            ]
          },
          "metadata": {}
        },
        {
          "output_type": "display_data",
          "data": {
            "text/plain": [
              "\u001b[1m Trainable params: \u001b[0m\u001b[38;5;34m40,081\u001b[0m (156.57 KB)\n"
            ],
            "text/html": [
              "<pre style=\"white-space:pre;overflow-x:auto;line-height:normal;font-family:Menlo,'DejaVu Sans Mono',consolas,'Courier New',monospace\"><span style=\"font-weight: bold\"> Trainable params: </span><span style=\"color: #00af00; text-decoration-color: #00af00\">40,081</span> (156.57 KB)\n",
              "</pre>\n"
            ]
          },
          "metadata": {}
        },
        {
          "output_type": "display_data",
          "data": {
            "text/plain": [
              "\u001b[1m Non-trainable params: \u001b[0m\u001b[38;5;34m0\u001b[0m (0.00 B)\n"
            ],
            "text/html": [
              "<pre style=\"white-space:pre;overflow-x:auto;line-height:normal;font-family:Menlo,'DejaVu Sans Mono',consolas,'Courier New',monospace\"><span style=\"font-weight: bold\"> Non-trainable params: </span><span style=\"color: #00af00; text-decoration-color: #00af00\">0</span> (0.00 B)\n",
              "</pre>\n"
            ]
          },
          "metadata": {}
        }
      ]
    },
    {
      "cell_type": "markdown",
      "source": [
        "#Training"
      ],
      "metadata": {
        "id": "nLLGbHKu3d0j"
      }
    },
    {
      "cell_type": "code",
      "source": [
        "def scheduler(epoch, lr):\n",
        "    lr = lr * np.exp(-0.1)\n",
        "    return lr\n",
        "lr = tf.keras.callbacks.LearningRateScheduler(scheduler)\n",
        "\n",
        "history = model.fit(train_batch, validation_data=val_batch, epochs=50, callbacks=[lr])"
      ],
      "metadata": {
        "colab": {
          "base_uri": "https://localhost:8080/"
        },
        "id": "oczGAWzV3f44",
        "outputId": "1ac5ef1d-ee92-402d-811f-8fb41440d9e1"
      },
      "execution_count": 503,
      "outputs": [
        {
          "output_type": "stream",
          "name": "stdout",
          "text": [
            "Epoch 1/50\n",
            "\u001b[1m61/61\u001b[0m \u001b[32m━━━━━━━━━━━━━━━━━━━━\u001b[0m\u001b[37m\u001b[0m \u001b[1m2s\u001b[0m 11ms/step - binary_accuracy: 0.8255 - loss: 0.4262 - precision_38: 0.1042 - recall_38: 0.0462 - val_binary_accuracy: 0.8660 - val_loss: 0.3608 - val_precision_38: 0.0000e+00 - val_recall_38: 0.0000e+00 - learning_rate: 0.0090\n",
            "Epoch 2/50\n",
            "\u001b[1m61/61\u001b[0m \u001b[32m━━━━━━━━━━━━━━━━━━━━\u001b[0m\u001b[37m\u001b[0m \u001b[1m1s\u001b[0m 4ms/step - binary_accuracy: 0.8743 - loss: 0.3550 - precision_38: 0.0000e+00 - recall_38: 0.0000e+00 - val_binary_accuracy: 0.8660 - val_loss: 0.3272 - val_precision_38: 0.0000e+00 - val_recall_38: 0.0000e+00 - learning_rate: 0.0082\n",
            "Epoch 3/50\n",
            "\u001b[1m61/61\u001b[0m \u001b[32m━━━━━━━━━━━━━━━━━━━━\u001b[0m\u001b[37m\u001b[0m \u001b[1m0s\u001b[0m 4ms/step - binary_accuracy: 0.8683 - loss: 0.3099 - precision_38: 0.4799 - recall_38: 0.0313 - val_binary_accuracy: 0.9139 - val_loss: 0.2010 - val_precision_38: 0.9348 - val_recall_38: 0.3839 - learning_rate: 0.0074\n",
            "Epoch 4/50\n",
            "\u001b[1m61/61\u001b[0m \u001b[32m━━━━━━━━━━━━━━━━━━━━\u001b[0m\u001b[37m\u001b[0m \u001b[1m0s\u001b[0m 4ms/step - binary_accuracy: 0.9342 - loss: 0.1817 - precision_38: 0.9093 - recall_38: 0.5574 - val_binary_accuracy: 0.9635 - val_loss: 0.1216 - val_precision_38: 0.9657 - val_recall_38: 0.7545 - learning_rate: 0.0067\n",
            "Epoch 5/50\n",
            "\u001b[1m61/61\u001b[0m \u001b[32m━━━━━━━━━━━━━━━━━━━━\u001b[0m\u001b[37m\u001b[0m \u001b[1m0s\u001b[0m 5ms/step - binary_accuracy: 0.9694 - loss: 0.1071 - precision_38: 0.9429 - recall_38: 0.8126 - val_binary_accuracy: 0.9426 - val_loss: 0.1565 - val_precision_38: 1.0000 - val_recall_38: 0.5714 - learning_rate: 0.0061\n",
            "Epoch 6/50\n",
            "\u001b[1m61/61\u001b[0m \u001b[32m━━━━━━━━━━━━━━━━━━━━\u001b[0m\u001b[37m\u001b[0m \u001b[1m0s\u001b[0m 4ms/step - binary_accuracy: 0.9776 - loss: 0.0803 - precision_38: 0.9771 - recall_38: 0.8550 - val_binary_accuracy: 0.9755 - val_loss: 0.0841 - val_precision_38: 0.9893 - val_recall_38: 0.8259 - learning_rate: 0.0055\n",
            "Epoch 7/50\n",
            "\u001b[1m61/61\u001b[0m \u001b[32m━━━━━━━━━━━━━━━━━━━━\u001b[0m\u001b[37m\u001b[0m \u001b[1m0s\u001b[0m 4ms/step - binary_accuracy: 0.9807 - loss: 0.0671 - precision_38: 0.9836 - recall_38: 0.8692 - val_binary_accuracy: 0.9731 - val_loss: 0.0859 - val_precision_38: 0.9945 - val_recall_38: 0.8036 - learning_rate: 0.0050\n",
            "Epoch 8/50\n",
            "\u001b[1m61/61\u001b[0m \u001b[32m━━━━━━━━━━━━━━━━━━━━\u001b[0m\u001b[37m\u001b[0m \u001b[1m0s\u001b[0m 4ms/step - binary_accuracy: 0.9844 - loss: 0.0573 - precision_38: 0.9940 - recall_38: 0.8879 - val_binary_accuracy: 0.9755 - val_loss: 0.0798 - val_precision_38: 0.9946 - val_recall_38: 0.8214 - learning_rate: 0.0045\n",
            "Epoch 9/50\n",
            "\u001b[1m61/61\u001b[0m \u001b[32m━━━━━━━━━━━━━━━━━━━━\u001b[0m\u001b[37m\u001b[0m \u001b[1m0s\u001b[0m 4ms/step - binary_accuracy: 0.9896 - loss: 0.0451 - precision_38: 0.9948 - recall_38: 0.9280 - val_binary_accuracy: 0.9761 - val_loss: 0.0813 - val_precision_38: 1.0000 - val_recall_38: 0.8214 - learning_rate: 0.0041\n",
            "Epoch 10/50\n",
            "\u001b[1m61/61\u001b[0m \u001b[32m━━━━━━━━━━━━━━━━━━━━\u001b[0m\u001b[37m\u001b[0m \u001b[1m0s\u001b[0m 4ms/step - binary_accuracy: 0.9861 - loss: 0.0454 - precision_38: 0.9939 - recall_38: 0.9025 - val_binary_accuracy: 0.9803 - val_loss: 0.0698 - val_precision_38: 0.9751 - val_recall_38: 0.8750 - learning_rate: 0.0037\n",
            "Epoch 11/50\n",
            "\u001b[1m61/61\u001b[0m \u001b[32m━━━━━━━━━━━━━━━━━━━━\u001b[0m\u001b[37m\u001b[0m \u001b[1m0s\u001b[0m 4ms/step - binary_accuracy: 0.9890 - loss: 0.0413 - precision_38: 0.9896 - recall_38: 0.9278 - val_binary_accuracy: 0.9791 - val_loss: 0.0717 - val_precision_38: 1.0000 - val_recall_38: 0.8438 - learning_rate: 0.0033\n",
            "Epoch 12/50\n",
            "\u001b[1m61/61\u001b[0m \u001b[32m━━━━━━━━━━━━━━━━━━━━\u001b[0m\u001b[37m\u001b[0m \u001b[1m0s\u001b[0m 4ms/step - binary_accuracy: 0.9899 - loss: 0.0403 - precision_38: 0.9952 - recall_38: 0.9285 - val_binary_accuracy: 0.9821 - val_loss: 0.0672 - val_precision_38: 0.9755 - val_recall_38: 0.8884 - learning_rate: 0.0030\n",
            "Epoch 13/50\n",
            "\u001b[1m61/61\u001b[0m \u001b[32m━━━━━━━━━━━━━━━━━━━━\u001b[0m\u001b[37m\u001b[0m \u001b[1m0s\u001b[0m 4ms/step - binary_accuracy: 0.9917 - loss: 0.0381 - precision_38: 0.9956 - recall_38: 0.9398 - val_binary_accuracy: 0.9797 - val_loss: 0.0710 - val_precision_38: 1.0000 - val_recall_38: 0.8482 - learning_rate: 0.0027\n",
            "Epoch 14/50\n",
            "\u001b[1m61/61\u001b[0m \u001b[32m━━━━━━━━━━━━━━━━━━━━\u001b[0m\u001b[37m\u001b[0m \u001b[1m0s\u001b[0m 4ms/step - binary_accuracy: 0.9850 - loss: 0.0473 - precision_38: 0.9804 - recall_38: 0.9056 - val_binary_accuracy: 0.9779 - val_loss: 0.0749 - val_precision_38: 1.0000 - val_recall_38: 0.8348 - learning_rate: 0.0025\n",
            "Epoch 15/50\n",
            "\u001b[1m61/61\u001b[0m \u001b[32m━━━━━━━━━━━━━━━━━━━━\u001b[0m\u001b[37m\u001b[0m \u001b[1m0s\u001b[0m 4ms/step - binary_accuracy: 0.9919 - loss: 0.0340 - precision_38: 0.9955 - recall_38: 0.9468 - val_binary_accuracy: 0.9833 - val_loss: 0.0649 - val_precision_38: 0.9757 - val_recall_38: 0.8973 - learning_rate: 0.0022\n",
            "Epoch 16/50\n",
            "\u001b[1m61/61\u001b[0m \u001b[32m━━━━━━━━━━━━━━━━━━━━\u001b[0m\u001b[37m\u001b[0m \u001b[1m0s\u001b[0m 6ms/step - binary_accuracy: 0.9925 - loss: 0.0328 - precision_38: 0.9986 - recall_38: 0.9446 - val_binary_accuracy: 0.9833 - val_loss: 0.0651 - val_precision_38: 0.9712 - val_recall_38: 0.9018 - learning_rate: 0.0020\n",
            "Epoch 17/50\n",
            "\u001b[1m61/61\u001b[0m \u001b[32m━━━━━━━━━━━━━━━━━━━━\u001b[0m\u001b[37m\u001b[0m \u001b[1m1s\u001b[0m 4ms/step - binary_accuracy: 0.9929 - loss: 0.0326 - precision_38: 0.9992 - recall_38: 0.9442 - val_binary_accuracy: 0.9827 - val_loss: 0.0652 - val_precision_38: 0.9803 - val_recall_38: 0.8884 - learning_rate: 0.0018\n",
            "Epoch 18/50\n",
            "\u001b[1m61/61\u001b[0m \u001b[32m━━━━━━━━━━━━━━━━━━━━\u001b[0m\u001b[37m\u001b[0m \u001b[1m0s\u001b[0m 4ms/step - binary_accuracy: 0.9931 - loss: 0.0287 - precision_38: 0.9979 - recall_38: 0.9493 - val_binary_accuracy: 0.9833 - val_loss: 0.0655 - val_precision_38: 0.9851 - val_recall_38: 0.8884 - learning_rate: 0.0017\n",
            "Epoch 19/50\n",
            "\u001b[1m61/61\u001b[0m \u001b[32m━━━━━━━━━━━━━━━━━━━━\u001b[0m\u001b[37m\u001b[0m \u001b[1m0s\u001b[0m 4ms/step - binary_accuracy: 0.9937 - loss: 0.0243 - precision_38: 0.9958 - recall_38: 0.9590 - val_binary_accuracy: 0.9815 - val_loss: 0.0669 - val_precision_38: 0.9898 - val_recall_38: 0.8705 - learning_rate: 0.0015\n",
            "Epoch 20/50\n",
            "\u001b[1m61/61\u001b[0m \u001b[32m━━━━━━━━━━━━━━━━━━━━\u001b[0m\u001b[37m\u001b[0m \u001b[1m0s\u001b[0m 4ms/step - binary_accuracy: 0.9943 - loss: 0.0248 - precision_38: 0.9963 - recall_38: 0.9613 - val_binary_accuracy: 0.9833 - val_loss: 0.0660 - val_precision_38: 0.9900 - val_recall_38: 0.8839 - learning_rate: 0.0014\n",
            "Epoch 21/50\n",
            "\u001b[1m61/61\u001b[0m \u001b[32m━━━━━━━━━━━━━━━━━━━━\u001b[0m\u001b[37m\u001b[0m \u001b[1m0s\u001b[0m 4ms/step - binary_accuracy: 0.9915 - loss: 0.0291 - precision_38: 0.9954 - recall_38: 0.9428 - val_binary_accuracy: 0.9827 - val_loss: 0.0677 - val_precision_38: 0.9949 - val_recall_38: 0.8750 - learning_rate: 0.0012\n",
            "Epoch 22/50\n",
            "\u001b[1m61/61\u001b[0m \u001b[32m━━━━━━━━━━━━━━━━━━━━\u001b[0m\u001b[37m\u001b[0m \u001b[1m0s\u001b[0m 4ms/step - binary_accuracy: 0.9960 - loss: 0.0198 - precision_38: 0.9995 - recall_38: 0.9704 - val_binary_accuracy: 0.9839 - val_loss: 0.0644 - val_precision_38: 0.9805 - val_recall_38: 0.8973 - learning_rate: 0.0011\n",
            "Epoch 23/50\n",
            "\u001b[1m61/61\u001b[0m \u001b[32m━━━━━━━━━━━━━━━━━━━━\u001b[0m\u001b[37m\u001b[0m \u001b[1m0s\u001b[0m 4ms/step - binary_accuracy: 0.9891 - loss: 0.0288 - precision_38: 0.9969 - recall_38: 0.9268 - val_binary_accuracy: 0.9833 - val_loss: 0.0679 - val_precision_38: 0.9900 - val_recall_38: 0.8839 - learning_rate: 0.0010\n",
            "Epoch 24/50\n",
            "\u001b[1m61/61\u001b[0m \u001b[32m━━━━━━━━━━━━━━━━━━━━\u001b[0m\u001b[37m\u001b[0m \u001b[1m0s\u001b[0m 4ms/step - binary_accuracy: 0.9933 - loss: 0.0243 - precision_38: 0.9955 - recall_38: 0.9565 - val_binary_accuracy: 0.9839 - val_loss: 0.0640 - val_precision_38: 0.9758 - val_recall_38: 0.9018 - learning_rate: 9.0718e-04\n",
            "Epoch 25/50\n",
            "\u001b[1m61/61\u001b[0m \u001b[32m━━━━━━━━━━━━━━━━━━━━\u001b[0m\u001b[37m\u001b[0m \u001b[1m0s\u001b[0m 4ms/step - binary_accuracy: 0.9931 - loss: 0.0254 - precision_38: 0.9940 - recall_38: 0.9528 - val_binary_accuracy: 0.9797 - val_loss: 0.0791 - val_precision_38: 1.0000 - val_recall_38: 0.8482 - learning_rate: 8.2085e-04\n",
            "Epoch 26/50\n",
            "\u001b[1m61/61\u001b[0m \u001b[32m━━━━━━━━━━━━━━━━━━━━\u001b[0m\u001b[37m\u001b[0m \u001b[1m0s\u001b[0m 7ms/step - binary_accuracy: 0.9916 - loss: 0.0302 - precision_38: 0.9970 - recall_38: 0.9397 - val_binary_accuracy: 0.9833 - val_loss: 0.0677 - val_precision_38: 0.9900 - val_recall_38: 0.8839 - learning_rate: 7.4274e-04\n",
            "Epoch 27/50\n",
            "\u001b[1m61/61\u001b[0m \u001b[32m━━━━━━━━━━━━━━━━━━━━\u001b[0m\u001b[37m\u001b[0m \u001b[1m1s\u001b[0m 6ms/step - binary_accuracy: 0.9938 - loss: 0.0219 - precision_38: 0.9966 - recall_38: 0.9559 - val_binary_accuracy: 0.9839 - val_loss: 0.0690 - val_precision_38: 0.9950 - val_recall_38: 0.8839 - learning_rate: 6.7206e-04\n",
            "Epoch 28/50\n",
            "\u001b[1m61/61\u001b[0m \u001b[32m━━━━━━━━━━━━━━━━━━━━\u001b[0m\u001b[37m\u001b[0m \u001b[1m1s\u001b[0m 7ms/step - binary_accuracy: 0.9943 - loss: 0.0212 - precision_38: 0.9963 - recall_38: 0.9585 - val_binary_accuracy: 0.9850 - val_loss: 0.0648 - val_precision_38: 0.9854 - val_recall_38: 0.9018 - learning_rate: 6.0810e-04\n",
            "Epoch 29/50\n",
            "\u001b[1m61/61\u001b[0m \u001b[32m━━━━━━━━━━━━━━━━━━━━\u001b[0m\u001b[37m\u001b[0m \u001b[1m1s\u001b[0m 6ms/step - binary_accuracy: 0.9961 - loss: 0.0188 - precision_38: 0.9983 - recall_38: 0.9729 - val_binary_accuracy: 0.9833 - val_loss: 0.0673 - val_precision_38: 0.9900 - val_recall_38: 0.8839 - learning_rate: 5.5023e-04\n",
            "Epoch 30/50\n",
            "\u001b[1m61/61\u001b[0m \u001b[32m━━━━━━━━━━━━━━━━━━━━\u001b[0m\u001b[37m\u001b[0m \u001b[1m1s\u001b[0m 4ms/step - binary_accuracy: 0.9941 - loss: 0.0179 - precision_38: 0.9912 - recall_38: 0.9619 - val_binary_accuracy: 0.9833 - val_loss: 0.0681 - val_precision_38: 0.9900 - val_recall_38: 0.8839 - learning_rate: 4.9787e-04\n",
            "Epoch 31/50\n",
            "\u001b[1m61/61\u001b[0m \u001b[32m━━━━━━━━━━━━━━━━━━━━\u001b[0m\u001b[37m\u001b[0m \u001b[1m0s\u001b[0m 5ms/step - binary_accuracy: 0.9933 - loss: 0.0217 - precision_38: 0.9873 - recall_38: 0.9592 - val_binary_accuracy: 0.9821 - val_loss: 0.0718 - val_precision_38: 1.0000 - val_recall_38: 0.8661 - learning_rate: 4.5049e-04\n",
            "Epoch 32/50\n",
            "\u001b[1m61/61\u001b[0m \u001b[32m━━━━━━━━━━━━━━━━━━━━\u001b[0m\u001b[37m\u001b[0m \u001b[1m1s\u001b[0m 4ms/step - binary_accuracy: 0.9919 - loss: 0.0234 - precision_38: 0.9988 - recall_38: 0.9407 - val_binary_accuracy: 0.9821 - val_loss: 0.0723 - val_precision_38: 1.0000 - val_recall_38: 0.8661 - learning_rate: 4.0762e-04\n",
            "Epoch 33/50\n",
            "\u001b[1m61/61\u001b[0m \u001b[32m━━━━━━━━━━━━━━━━━━━━\u001b[0m\u001b[37m\u001b[0m \u001b[1m0s\u001b[0m 4ms/step - binary_accuracy: 0.9944 - loss: 0.0200 - precision_38: 0.9945 - recall_38: 0.9647 - val_binary_accuracy: 0.9839 - val_loss: 0.0709 - val_precision_38: 0.9950 - val_recall_38: 0.8839 - learning_rate: 3.6883e-04\n",
            "Epoch 34/50\n",
            "\u001b[1m61/61\u001b[0m \u001b[32m━━━━━━━━━━━━━━━━━━━━\u001b[0m\u001b[37m\u001b[0m \u001b[1m0s\u001b[0m 4ms/step - binary_accuracy: 0.9937 - loss: 0.0238 - precision_38: 0.9989 - recall_38: 0.9585 - val_binary_accuracy: 0.9833 - val_loss: 0.0681 - val_precision_38: 0.9900 - val_recall_38: 0.8839 - learning_rate: 3.3373e-04\n",
            "Epoch 35/50\n",
            "\u001b[1m61/61\u001b[0m \u001b[32m━━━━━━━━━━━━━━━━━━━━\u001b[0m\u001b[37m\u001b[0m \u001b[1m0s\u001b[0m 4ms/step - binary_accuracy: 0.9953 - loss: 0.0218 - precision_38: 0.9979 - recall_38: 0.9632 - val_binary_accuracy: 0.9833 - val_loss: 0.0683 - val_precision_38: 0.9900 - val_recall_38: 0.8839 - learning_rate: 3.0197e-04\n",
            "Epoch 36/50\n",
            "\u001b[1m61/61\u001b[0m \u001b[32m━━━━━━━━━━━━━━━━━━━━\u001b[0m\u001b[37m\u001b[0m \u001b[1m0s\u001b[0m 4ms/step - binary_accuracy: 0.9922 - loss: 0.0247 - precision_38: 0.9878 - recall_38: 0.9547 - val_binary_accuracy: 0.9833 - val_loss: 0.0678 - val_precision_38: 0.9900 - val_recall_38: 0.8839 - learning_rate: 2.7324e-04\n",
            "Epoch 37/50\n",
            "\u001b[1m61/61\u001b[0m \u001b[32m━━━━━━━━━━━━━━━━━━━━\u001b[0m\u001b[37m\u001b[0m \u001b[1m0s\u001b[0m 4ms/step - binary_accuracy: 0.9931 - loss: 0.0219 - precision_38: 0.9947 - recall_38: 0.9514 - val_binary_accuracy: 0.9844 - val_loss: 0.0656 - val_precision_38: 0.9853 - val_recall_38: 0.8973 - learning_rate: 2.4724e-04\n",
            "Epoch 38/50\n",
            "\u001b[1m61/61\u001b[0m \u001b[32m━━━━━━━━━━━━━━━━━━━━\u001b[0m\u001b[37m\u001b[0m \u001b[1m0s\u001b[0m 4ms/step - binary_accuracy: 0.9963 - loss: 0.0207 - precision_38: 0.9994 - recall_38: 0.9718 - val_binary_accuracy: 0.9850 - val_loss: 0.0652 - val_precision_38: 0.9854 - val_recall_38: 0.9018 - learning_rate: 2.2371e-04\n",
            "Epoch 39/50\n",
            "\u001b[1m61/61\u001b[0m \u001b[32m━━━━━━━━━━━━━━━━━━━━\u001b[0m\u001b[37m\u001b[0m \u001b[1m0s\u001b[0m 4ms/step - binary_accuracy: 0.9957 - loss: 0.0169 - precision_38: 0.9988 - recall_38: 0.9698 - val_binary_accuracy: 0.9839 - val_loss: 0.0716 - val_precision_38: 0.9950 - val_recall_38: 0.8839 - learning_rate: 2.0242e-04\n",
            "Epoch 40/50\n",
            "\u001b[1m61/61\u001b[0m \u001b[32m━━━━━━━━━━━━━━━━━━━━\u001b[0m\u001b[37m\u001b[0m \u001b[1m0s\u001b[0m 4ms/step - binary_accuracy: 0.9948 - loss: 0.0188 - precision_38: 0.9983 - recall_38: 0.9650 - val_binary_accuracy: 0.9833 - val_loss: 0.0681 - val_precision_38: 0.9900 - val_recall_38: 0.8839 - learning_rate: 1.8316e-04\n",
            "Epoch 41/50\n",
            "\u001b[1m61/61\u001b[0m \u001b[32m━━━━━━━━━━━━━━━━━━━━\u001b[0m\u001b[37m\u001b[0m \u001b[1m0s\u001b[0m 4ms/step - binary_accuracy: 0.9940 - loss: 0.0194 - precision_38: 1.0000 - recall_38: 0.9547 - val_binary_accuracy: 0.9844 - val_loss: 0.0666 - val_precision_38: 0.9901 - val_recall_38: 0.8929 - learning_rate: 1.6573e-04\n",
            "Epoch 42/50\n",
            "\u001b[1m61/61\u001b[0m \u001b[32m━━━━━━━━━━━━━━━━━━━━\u001b[0m\u001b[37m\u001b[0m \u001b[1m0s\u001b[0m 4ms/step - binary_accuracy: 0.9945 - loss: 0.0199 - precision_38: 0.9955 - recall_38: 0.9623 - val_binary_accuracy: 0.9839 - val_loss: 0.0679 - val_precision_38: 0.9900 - val_recall_38: 0.8884 - learning_rate: 1.4996e-04\n",
            "Epoch 43/50\n",
            "\u001b[1m61/61\u001b[0m \u001b[32m━━━━━━━━━━━━━━━━━━━━\u001b[0m\u001b[37m\u001b[0m \u001b[1m0s\u001b[0m 6ms/step - binary_accuracy: 0.9951 - loss: 0.0191 - precision_38: 0.9998 - recall_38: 0.9645 - val_binary_accuracy: 0.9839 - val_loss: 0.0673 - val_precision_38: 0.9900 - val_recall_38: 0.8884 - learning_rate: 1.3569e-04\n",
            "Epoch 44/50\n",
            "\u001b[1m61/61\u001b[0m \u001b[32m━━━━━━━━━━━━━━━━━━━━\u001b[0m\u001b[37m\u001b[0m \u001b[1m0s\u001b[0m 4ms/step - binary_accuracy: 0.9953 - loss: 0.0175 - precision_38: 0.9977 - recall_38: 0.9673 - val_binary_accuracy: 0.9839 - val_loss: 0.0675 - val_precision_38: 0.9900 - val_recall_38: 0.8884 - learning_rate: 1.2277e-04\n",
            "Epoch 45/50\n",
            "\u001b[1m61/61\u001b[0m \u001b[32m━━━━━━━━━━━━━━━━━━━━\u001b[0m\u001b[37m\u001b[0m \u001b[1m0s\u001b[0m 4ms/step - binary_accuracy: 0.9958 - loss: 0.0206 - precision_38: 0.9941 - recall_38: 0.9726 - val_binary_accuracy: 0.9839 - val_loss: 0.0675 - val_precision_38: 0.9900 - val_recall_38: 0.8884 - learning_rate: 1.1109e-04\n",
            "Epoch 46/50\n",
            "\u001b[1m61/61\u001b[0m \u001b[32m━━━━━━━━━━━━━━━━━━━━\u001b[0m\u001b[37m\u001b[0m \u001b[1m0s\u001b[0m 4ms/step - binary_accuracy: 0.9947 - loss: 0.0203 - precision_38: 0.9951 - recall_38: 0.9649 - val_binary_accuracy: 0.9844 - val_loss: 0.0663 - val_precision_38: 0.9853 - val_recall_38: 0.8973 - learning_rate: 1.0052e-04\n",
            "Epoch 47/50\n",
            "\u001b[1m61/61\u001b[0m \u001b[32m━━━━━━━━━━━━━━━━━━━━\u001b[0m\u001b[37m\u001b[0m \u001b[1m0s\u001b[0m 5ms/step - binary_accuracy: 0.9933 - loss: 0.0177 - precision_38: 0.9974 - recall_38: 0.9547 - val_binary_accuracy: 0.9839 - val_loss: 0.0677 - val_precision_38: 0.9900 - val_recall_38: 0.8884 - learning_rate: 9.0953e-05\n",
            "Epoch 48/50\n",
            "\u001b[1m61/61\u001b[0m \u001b[32m━━━━━━━━━━━━━━━━━━━━\u001b[0m\u001b[37m\u001b[0m \u001b[1m1s\u001b[0m 4ms/step - binary_accuracy: 0.9959 - loss: 0.0141 - precision_38: 0.9957 - recall_38: 0.9727 - val_binary_accuracy: 0.9850 - val_loss: 0.0664 - val_precision_38: 0.9901 - val_recall_38: 0.8973 - learning_rate: 8.2297e-05\n",
            "Epoch 49/50\n",
            "\u001b[1m61/61\u001b[0m \u001b[32m━━━━━━━━━━━━━━━━━━━━\u001b[0m\u001b[37m\u001b[0m \u001b[1m0s\u001b[0m 4ms/step - binary_accuracy: 0.9934 - loss: 0.0214 - precision_38: 0.9868 - recall_38: 0.9640 - val_binary_accuracy: 0.9850 - val_loss: 0.0665 - val_precision_38: 0.9901 - val_recall_38: 0.8973 - learning_rate: 7.4466e-05\n",
            "Epoch 50/50\n",
            "\u001b[1m61/61\u001b[0m \u001b[32m━━━━━━━━━━━━━━━━━━━━\u001b[0m\u001b[37m\u001b[0m \u001b[1m0s\u001b[0m 4ms/step - binary_accuracy: 0.9948 - loss: 0.0204 - precision_38: 0.9973 - recall_38: 0.9635 - val_binary_accuracy: 0.9850 - val_loss: 0.0666 - val_precision_38: 0.9901 - val_recall_38: 0.8973 - learning_rate: 6.7379e-05\n"
          ]
        }
      ]
    },
    {
      "cell_type": "code",
      "source": [
        "model.evaluate(val_batch)"
      ],
      "metadata": {
        "colab": {
          "base_uri": "https://localhost:8080/"
        },
        "id": "S1BNnqi0aCnj",
        "outputId": "d5e5a77f-77d1-4eb1-a580-52452b692160"
      },
      "execution_count": 504,
      "outputs": [
        {
          "output_type": "stream",
          "name": "stdout",
          "text": [
            "\u001b[1m27/27\u001b[0m \u001b[32m━━━━━━━━━━━━━━━━━━━━\u001b[0m\u001b[37m\u001b[0m \u001b[1m0s\u001b[0m 2ms/step - binary_accuracy: 0.9892 - loss: 0.0534 - precision_38: 0.9973 - recall_38: 0.9231\n"
          ]
        },
        {
          "output_type": "execute_result",
          "data": {
            "text/plain": [
              "[0.06661483645439148,\n",
              " 0.9850478172302246,\n",
              " 0.8973214030265808,\n",
              " 0.9901477694511414]"
            ]
          },
          "metadata": {},
          "execution_count": 504
        }
      ]
    },
    {
      "cell_type": "markdown",
      "source": [
        "#Evaluation"
      ],
      "metadata": {
        "id": "xVxl-a1pXW-P"
      }
    },
    {
      "cell_type": "code",
      "source": [
        "# Evaluation\n",
        "def evaluate_model(model, x_test, y_test):\n",
        "    y_pred = model.predict(x_test)\n",
        "    y_pred = np.where(y_pred < 0.5, 0, 1)\n",
        "    print(classification_report(y_test, y_pred))\n",
        "    cm = confusion_matrix(y_test, y_pred)\n",
        "    sns.heatmap(cm, annot=True, fmt='d', cmap='Blues', xticklabels=['Ham', 'Spam'], yticklabels=['Ham', 'Spam'])\n",
        "    plt.xlabel(\"Predicted\")\n",
        "    plt.ylabel(\"Actual\")\n",
        "    plt.show()\n",
        "\n",
        "evaluate_model(model, x_val, y_val)"
      ],
      "metadata": {
        "colab": {
          "base_uri": "https://localhost:8080/",
          "height": 623
        },
        "id": "jVyc0HlpXWVf",
        "outputId": "4fdb9ea6-31f0-47b0-ad97-252b786be3d7"
      },
      "execution_count": 505,
      "outputs": [
        {
          "output_type": "stream",
          "name": "stdout",
          "text": [
            "\u001b[1m53/53\u001b[0m \u001b[32m━━━━━━━━━━━━━━━━━━━━\u001b[0m\u001b[37m\u001b[0m \u001b[1m0s\u001b[0m 3ms/step\n",
            "              precision    recall  f1-score   support\n",
            "\n",
            "           0       0.98      1.00      0.99      1448\n",
            "           1       0.99      0.90      0.94       224\n",
            "\n",
            "    accuracy                           0.99      1672\n",
            "   macro avg       0.99      0.95      0.97      1672\n",
            "weighted avg       0.99      0.99      0.98      1672\n",
            "\n"
          ]
        },
        {
          "output_type": "display_data",
          "data": {
            "text/plain": [
              "<Figure size 640x480 with 2 Axes>"
            ],
            "image/png": "[encoded data removed]"
          },
          "metadata": {}
        }
      ]
    },
    {
      "cell_type": "markdown",
      "source": [
        "## Let's redefine a preprocessing function so we can check if our model can detect a spam or not"
      ],
      "metadata": {
        "id": "IeNHKgFclOJN"
      }
    },
    {
      "cell_type": "code",
      "source": [
        "import re\n",
        "import spacy\n",
        "nlp = spacy.load(\"en_core_web_sm\")\n",
        "\n",
        "def preprocess_text(text):\n",
        "    text = re.sub(r'[^a-zA-Z0-9 ]', '', text.strip())\n",
        "    return ' '.join([token.lemma_ for token in nlp(text) if token.lemma_ not in nlp.Defaults.stop_words])\n"
      ],
      "metadata": {
        "id": "w6GxLl4NkTX6"
      },
      "execution_count": 575,
      "outputs": []
    },
    {
      "cell_type": "markdown",
      "source": [
        "##Let's test our model"
      ],
      "metadata": {
        "id": "YQiJee3slTOJ"
      }
    },
    {
      "cell_type": "code",
      "source": [
        "# Single Message Prediction\n",
        "def predict_spam(model, text):\n",
        "    processed_text = tokenizer.texts_to_sequences([preprocess_text(text)])\n",
        "    padded_text = k.preprocessing.sequence.pad_sequences(processed_text, maxlen=100, padding='post')\n",
        "    pred = model.predict(padded_text)[0][0]\n",
        "    return \"Spam\" if pred > 0.5 else \"Ham\""
      ],
      "metadata": {
        "id": "cMYzJR-9gTHc"
      },
      "execution_count": 576,
      "outputs": []
    },
    {
      "cell_type": "markdown",
      "source": [
        "##Examples"
      ],
      "metadata": {
        "id": "aQT5HHnJlZtn"
      }
    },
    {
      "cell_type": "code",
      "source": [
        "# SPAM Message\n",
        "sample_text = \"Congratulations! You’ve won a $500 Amazon gift card. Claim it here \"\n",
        "print(\"Prediction:\", predict_spam(model, sample_text))"
      ],
      "metadata": {
        "colab": {
          "base_uri": "https://localhost:8080/"
        },
        "id": "eA2ATT4plibY",
        "outputId": "c81abbbb-f046-4a88-c58a-a5a0e9a19343"
      },
      "execution_count": 582,
      "outputs": [
        {
          "output_type": "stream",
          "name": "stdout",
          "text": [
            "\u001b[1m1/1\u001b[0m \u001b[32m━━━━━━━━━━━━━━━━━━━━\u001b[0m\u001b[37m\u001b[0m \u001b[1m0s\u001b[0m 74ms/step\n",
            "Prediction: Spam\n"
          ]
        }
      ]
    },
    {
      "cell_type": "code",
      "source": [
        "# NOT a SPAM Message\n",
        "sample_text = \"The dog is in the garden. \"\n",
        "print(\"Prediction:\", predict_spam(model, sample_text))"
      ],
      "metadata": {
        "colab": {
          "base_uri": "https://localhost:8080/"
        },
        "id": "gE0JkptUnrgn",
        "outputId": "3b8b8d82-598d-445f-80d2-979f6be6e201"
      },
      "execution_count": 583,
      "outputs": [
        {
          "output_type": "stream",
          "name": "stdout",
          "text": [
            "\u001b[1m1/1\u001b[0m \u001b[32m━━━━━━━━━━━━━━━━━━━━\u001b[0m\u001b[37m\u001b[0m \u001b[1m0s\u001b[0m 52ms/step\n",
            "Prediction: Ham\n"
          ]
        }
      ]
    },
    {
      "cell_type": "code",
      "source": [],
      "metadata": {
        "id": "bT1XTFxqn84z"
      },
      "execution_count": null,
      "outputs": []
    }
  ]
}